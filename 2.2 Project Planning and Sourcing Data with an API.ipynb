{
 "cells": [
  {
   "cell_type": "markdown",
   "id": "9a68c3b3-d4bb-4ca0-9f38-67672c9c8146",
   "metadata": {},
   "source": [
    "# 6. Import and Merge Data"
   ]
  },
  {
   "cell_type": "code",
   "execution_count": 1,
   "id": "d9a8b126-adfc-4f73-a75f-2564b7b266b6",
   "metadata": {},
   "outputs": [
    {
     "name": "stderr",
     "output_type": "stream",
     "text": [
      "C:\\Users\\Asus\\AppData\\Local\\Temp\\ipykernel_7272\\1565315616.py:11: DtypeWarning: Columns (5,7) have mixed types. Specify dtype option on import or set low_memory=False.\n",
      "  all_data = pd.concat([pd.read_csv(file) for file in file_paths], ignore_index=True)\n"
     ]
    },
    {
     "name": "stdout",
     "output_type": "stream",
     "text": [
      "            ride_id  rideable_type               started_at  \\\n",
      "0  BFD29218AB271154  electric_bike  2022-01-21 13:13:43.392   \n",
      "1  7C953F2FD7BE1302   classic_bike  2022-01-10 11:30:54.162   \n",
      "2  95893ABD40CED4B8  electric_bike  2022-01-26 10:52:43.096   \n",
      "3  F853B50772137378   classic_bike  2022-01-03 08:35:48.247   \n",
      "4  7590ADF834797B4B   classic_bike  2022-01-22 14:14:23.043   \n",
      "\n",
      "                  ended_at       start_station_name start_station_id  \\\n",
      "0  2022-01-21 13:22:31.463  West End Ave & W 107 St          7650.05   \n",
      "1  2022-01-10 11:41:43.422             4 Ave & 3 St          4028.04   \n",
      "2  2022-01-26 11:06:35.227          1 Ave & E 62 St          6753.08   \n",
      "3  2022-01-03 09:10:50.475          2 Ave & E 96 St          7338.02   \n",
      "4  2022-01-22 14:34:57.474          6 Ave & W 34 St          6364.10   \n",
      "\n",
      "              end_station_name end_station_id  start_lat  start_lng  \\\n",
      "0  Mt Morris Park W & W 120 St        7685.14  40.802117 -73.968181   \n",
      "1      Boerum Pl\\t& Pacific St        4488.09  40.673746 -73.985649   \n",
      "2              5 Ave & E 29 St        6248.06  40.761227 -73.960940   \n",
      "3              5 Ave & E 29 St        6248.06  40.783964 -73.947167   \n",
      "4              5 Ave & E 29 St        6248.06  40.749640 -73.988050   \n",
      "\n",
      "     end_lat    end_lng member_casual  \n",
      "0  40.804038 -73.945925        member  \n",
      "1  40.688489 -73.991160        member  \n",
      "2  40.745168 -73.986831        member  \n",
      "3  40.745168 -73.986831        member  \n",
      "4  40.745168 -73.986831        member  \n"
     ]
    }
   ],
   "source": [
    "import pandas as pd\n",
    "import glob\n",
    "\n",
    "# List all CSV files in the folder\n",
    "file_paths = [\n",
    "    r\"C:\\Users\\Asus\\Music\\Citibike\\202201-citibike-tripdata\\202201-citibike-tripdata_1.csv\",\n",
    "    r\"C:\\Users\\Asus\\Music\\Citibike\\202201-citibike-tripdata\\202201-citibike-tripdata_2.csv\"\n",
    "]\n",
    "\n",
    "# Combine all files into one DataFrame\n",
    "all_data = pd.concat([pd.read_csv(file) for file in file_paths], ignore_index=True)\n",
    "\n",
    "# Display the first few rows\n",
    "print(all_data.head())"
   ]
  },
  {
   "cell_type": "markdown",
   "id": "e966fe53-f6e2-4554-902a-a0fca9a5a0b7",
   "metadata": {},
   "source": [
    "# 7. Fetch Weather Data\n",
    "Get an API Token from NOAA:"
   ]
  },
  {
   "cell_type": "code",
   "execution_count": 2,
   "id": "3dd3049a-0912-4530-9ded-fa22b1ff38f2",
   "metadata": {},
   "outputs": [],
   "source": [
    "import requests\n",
    "\n",
    "# NOAA API token\n",
    "token = \"IjlRiTQPicwBnfVgePvsmZGuSVzbRxZa\" \n",
    "headers = {\"token\": token}\n",
    "\n",
    "# Request weather data\n",
    "url = \"https://www.ncei.noaa.gov/access/services/data/v1\"\n",
    "params = {\n",
    "    \"dataset\": \"daily-summaries\",\n",
    "    \"stations\": \"USW00094728\",  # LaGuardia Airport\n",
    "    \"startDate\": \"2022-01-01\",\n",
    "    \"endDate\": \"2022-12-31\",\n",
    "    \"dataTypes\": \"TMAX,TMIN,PRCP\",\n",
    "    \"format\": \"csv\"\n",
    "}\n",
    "response = requests.get(url, headers=headers, params=params)\n",
    "\n",
    "# Save to a CSV file\n",
    "with open(\"weather_2022.csv\", \"wb\") as f:\n",
    "    f.write(response.content)"
   ]
  },
  {
   "cell_type": "markdown",
   "id": "31dcdafa-ce6d-45a9-a13c-a0d97b58607e",
   "metadata": {},
   "source": [
    "# 8. Merge CitiBike and Weather Data\n"
   ]
  },
  {
   "cell_type": "code",
   "execution_count": 4,
   "id": "984fcb0e-4d22-407f-b210-bce13bfd547e",
   "metadata": {},
   "outputs": [
    {
     "name": "stdout",
     "output_type": "stream",
     "text": [
      "Index(['ride_id', 'rideable_type', 'started_at', 'ended_at',\n",
      "       'start_station_name', 'start_station_id', 'end_station_name',\n",
      "       'end_station_id', 'start_lat', 'start_lng', 'end_lat', 'end_lng',\n",
      "       'member_casual'],\n",
      "      dtype='object')\n"
     ]
    }
   ],
   "source": [
    "print(all_data.columns)"
   ]
  },
  {
   "cell_type": "code",
   "execution_count": 8,
   "id": "2ee1c3a6-a5c2-4a8d-8043-8a17b630935c",
   "metadata": {},
   "outputs": [
    {
     "name": "stdout",
     "output_type": "stream",
     "text": [
      "Merged data saved!\n"
     ]
    }
   ],
   "source": [
    "import pandas as pd\n",
    "\n",
    "# Load the weather data\n",
    "weather = pd.read_csv(\"weather_2022.csv\")\n",
    "\n",
    "# Ensure 'DATE' column in weather is in datetime format\n",
    "weather['DATE'] = pd.to_datetime(weather['DATE'])\n",
    "\n",
    "# Ensure 'started_at' in all_data is converted to datetime\n",
    "all_data['start_date'] = pd.to_datetime(all_data['started_at']).dt.normalize()\n",
    "\n",
    "# Merge the datasets on the date\n",
    "merged_data = pd.merge(\n",
    "    all_data,\n",
    "    weather,\n",
    "    left_on='start_date',\n",
    "    right_on='DATE',\n",
    "    how='left'\n",
    ")\n",
    "\n",
    "# Save the merged dataset\n",
    "merged_data.to_csv(\"merged_citibike_weather.csv\", index=False)\n",
    "print(\"Merged data saved!\")"
   ]
  },
  {
   "cell_type": "code",
   "execution_count": null,
   "id": "1e05fa4f-4445-4b7c-916a-b6c27e506ca1",
   "metadata": {},
   "outputs": [],
   "source": []
  }
 ],
 "metadata": {
  "kernelspec": {
   "display_name": "20th Century Environment",
   "language": "python",
   "name": "20th_century"
  },
  "language_info": {
   "codemirror_mode": {
    "name": "ipython",
    "version": 3
   },
   "file_extension": ".py",
   "mimetype": "text/x-python",
   "name": "python",
   "nbconvert_exporter": "python",
   "pygments_lexer": "ipython3",
   "version": "3.12.7"
  }
 },
 "nbformat": 4,
 "nbformat_minor": 5
}
